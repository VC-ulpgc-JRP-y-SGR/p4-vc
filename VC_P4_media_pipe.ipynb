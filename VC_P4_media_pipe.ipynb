{
 "cells": [
  {
   "cell_type": "code",
   "execution_count": 1,
   "metadata": {},
   "outputs": [],
   "source": [
    "import numpy as np\n",
    "import cv2 as cv\n",
    "import matplotlib.pyplot as plt\n",
    "import matplotlib.image as mpimg"
   ]
  },
  {
   "cell_type": "code",
   "execution_count": 2,
   "metadata": {},
   "outputs": [],
   "source": [
    "class VideoReader:\n",
    "    def __init__(self):\n",
    "        pass\n",
    "\n",
    "    def record(self, callback):\n",
    "        vid = cv.VideoCapture(0)\n",
    "\n",
    "        while True:\n",
    "            ret, frame = vid.read()\n",
    "            callback(frame)\n",
    "            if cv.waitKey(1) & 0xFF == ord('q'):\n",
    "                break"
   ]
  },
  {
   "cell_type": "code",
   "execution_count": 27,
   "metadata": {},
   "outputs": [],
   "source": [
    "from abc import ABC\n",
    "from abc import abstractmethod\n",
    "\n",
    "class FaceDetector(ABC):\n",
    "    def __init__(self):\n",
    "        pass\n",
    "        \n",
    "    @abstractmethod\n",
    "    def detect(self, frame):\n",
    "        pass"
   ]
  },
  {
   "cell_type": "code",
   "execution_count": 69,
   "metadata": {},
   "outputs": [],
   "source": [
    "import mediapipe as mp\n",
    "from mediapipe.tasks import python\n",
    "from mediapipe.tasks.python import vision\n",
    "\n",
    "class MediaPipeModels:\n",
    "    blaze_face_short_range='./blaze_face_short_range.tflite'\n",
    "    oil_paint ='./face_stylizer_oil_painting.task'\n",
    "    color_sketch = './face_stylizer_color_sketch.task'\n",
    "\n",
    "class MediaPipeFaceDetector(FaceDetector):\n",
    "    def __init__(self, model):\n",
    "        self.model = model\n",
    "\n",
    "    def detect(self, frame):\n",
    "        #make face detector with mediapipe\n",
    "        BaseOptions = mp.tasks.BaseOptions\n",
    "        FaceDetector = mp.tasks.vision.FaceDetector\n",
    "        FaceDetectorOptions = mp.tasks.vision.FaceDetectorOptions\n",
    "        VisionRunningMode = mp.tasks.vision.RunningMode\n",
    "\n",
    "        # Create a face detector instance with the image mode:\n",
    "        options = FaceDetectorOptions(\n",
    "            base_options=BaseOptions(model_asset_path=self.model),\n",
    "            running_mode=VisionRunningMode.IMAGE)\n",
    "        with FaceDetector.create_from_options(options) as detector:\n",
    "            # Load the input image from a numpy array.\n",
    "            mp_image = mp.Image(image_format=mp.ImageFormat.SRGB, data=frame)\n",
    "            face_detector_result = detector.detect(mp_image)\n",
    "            return face_detector_result.detections\n",
    "\n",
    "class MediaPipeFaceStyler:\n",
    "    def __init__(self, model):\n",
    "        self.model = model\n",
    "\n",
    "    def style(self, frame):\n",
    "        BaseOptions = mp.tasks.BaseOptions\n",
    "        Facestylizer = mp.tasks.vision.FaceStylizer\n",
    "        FacestylizerOptions = mp.tasks.vision.FaceStylizerOptions\n",
    "\n",
    "        # Create a face stylizer instance with the image mode:\n",
    "        options = FacestylizerOptions(\n",
    "            base_options=BaseOptions(model_asset_path=self.model))\n",
    "        with Facestylizer.create_from_options(options) as stylizer:\n",
    "            mp_image = mp.Image(image_format=mp.ImageFormat.SRGB, data=frame)\n",
    "            face_stylizer_result = stylizer.stylize(mp_image)\n",
    "            return face_stylizer_result.numpy_view()"
   ]
  },
  {
   "cell_type": "code",
   "execution_count": 95,
   "metadata": {},
   "outputs": [
    {
     "ename": "KeyboardInterrupt",
     "evalue": "",
     "output_type": "error",
     "traceback": [
      "\u001b[0;31m---------------------------------------------------------------------------\u001b[0m",
      "\u001b[0;31mKeyboardInterrupt\u001b[0m                         Traceback (most recent call last)",
      "\u001b[1;32m/Users/josepenaseco/Desktop/dev/vc/p4-vc/VC_P4_media_pipe.ipynb Celda 5\u001b[0m line \u001b[0;36m3\n\u001b[1;32m     <a href='vscode-notebook-cell:/Users/josepenaseco/Desktop/dev/vc/p4-vc/VC_P4_media_pipe.ipynb#W2sZmlsZQ%3D%3D?line=34'>35</a>\u001b[0m         frame[bounding_box\u001b[39m.\u001b[39morigin_y:bounding_box\u001b[39m.\u001b[39morigin_y\u001b[39m+\u001b[39mbounding_box\u001b[39m.\u001b[39mheight, bounding_box\u001b[39m.\u001b[39morigin_x:bounding_box\u001b[39m.\u001b[39morigin_x\u001b[39m+\u001b[39mbounding_box\u001b[39m.\u001b[39mwidth] \u001b[39m=\u001b[39m canny\n\u001b[1;32m     <a href='vscode-notebook-cell:/Users/josepenaseco/Desktop/dev/vc/p4-vc/VC_P4_media_pipe.ipynb#W2sZmlsZQ%3D%3D?line=36'>37</a>\u001b[0m     cv\u001b[39m.\u001b[39mimshow(\u001b[39m'\u001b[39m\u001b[39mframe\u001b[39m\u001b[39m'\u001b[39m, frame)\n\u001b[0;32m---> <a href='vscode-notebook-cell:/Users/josepenaseco/Desktop/dev/vc/p4-vc/VC_P4_media_pipe.ipynb#W2sZmlsZQ%3D%3D?line=38'>39</a>\u001b[0m VideoReader()\u001b[39m.\u001b[39;49mrecord(callback)\n",
      "\u001b[1;32m/Users/josepenaseco/Desktop/dev/vc/p4-vc/VC_P4_media_pipe.ipynb Celda 5\u001b[0m line \u001b[0;36m1\n\u001b[1;32m      <a href='vscode-notebook-cell:/Users/josepenaseco/Desktop/dev/vc/p4-vc/VC_P4_media_pipe.ipynb#W2sZmlsZQ%3D%3D?line=7'>8</a>\u001b[0m \u001b[39mwhile\u001b[39;00m \u001b[39mTrue\u001b[39;00m:\n\u001b[1;32m      <a href='vscode-notebook-cell:/Users/josepenaseco/Desktop/dev/vc/p4-vc/VC_P4_media_pipe.ipynb#W2sZmlsZQ%3D%3D?line=8'>9</a>\u001b[0m     ret, frame \u001b[39m=\u001b[39m vid\u001b[39m.\u001b[39mread()\n\u001b[0;32m---> <a href='vscode-notebook-cell:/Users/josepenaseco/Desktop/dev/vc/p4-vc/VC_P4_media_pipe.ipynb#W2sZmlsZQ%3D%3D?line=9'>10</a>\u001b[0m     callback(frame)\n\u001b[1;32m     <a href='vscode-notebook-cell:/Users/josepenaseco/Desktop/dev/vc/p4-vc/VC_P4_media_pipe.ipynb#W2sZmlsZQ%3D%3D?line=10'>11</a>\u001b[0m     \u001b[39mif\u001b[39;00m cv\u001b[39m.\u001b[39mwaitKey(\u001b[39m1\u001b[39m) \u001b[39m&\u001b[39m \u001b[39m0xFF\u001b[39m \u001b[39m==\u001b[39m \u001b[39mord\u001b[39m(\u001b[39m'\u001b[39m\u001b[39mq\u001b[39m\u001b[39m'\u001b[39m):\n\u001b[1;32m     <a href='vscode-notebook-cell:/Users/josepenaseco/Desktop/dev/vc/p4-vc/VC_P4_media_pipe.ipynb#W2sZmlsZQ%3D%3D?line=11'>12</a>\u001b[0m         \u001b[39mbreak\u001b[39;00m\n",
      "\u001b[1;32m/Users/josepenaseco/Desktop/dev/vc/p4-vc/VC_P4_media_pipe.ipynb Celda 5\u001b[0m line \u001b[0;36m2\n\u001b[1;32m     <a href='vscode-notebook-cell:/Users/josepenaseco/Desktop/dev/vc/p4-vc/VC_P4_media_pipe.ipynb#W2sZmlsZQ%3D%3D?line=21'>22</a>\u001b[0m stylizer \u001b[39m=\u001b[39m MediaPipeFaceStyler(MediaPipeModels\u001b[39m.\u001b[39mcolor_sketch)\n\u001b[1;32m     <a href='vscode-notebook-cell:/Users/josepenaseco/Desktop/dev/vc/p4-vc/VC_P4_media_pipe.ipynb#W2sZmlsZQ%3D%3D?line=22'>23</a>\u001b[0m \u001b[39m#stylized = stylizer.style(frame)\u001b[39;00m\n\u001b[1;32m     <a href='vscode-notebook-cell:/Users/josepenaseco/Desktop/dev/vc/p4-vc/VC_P4_media_pipe.ipynb#W2sZmlsZQ%3D%3D?line=23'>24</a>\u001b[0m \u001b[39m#print(stylized)\u001b[39;00m\n\u001b[0;32m---> <a href='vscode-notebook-cell:/Users/josepenaseco/Desktop/dev/vc/p4-vc/VC_P4_media_pipe.ipynb#W2sZmlsZQ%3D%3D?line=24'>25</a>\u001b[0m detections \u001b[39m=\u001b[39m detector\u001b[39m.\u001b[39;49mdetect(frame)\n\u001b[1;32m     <a href='vscode-notebook-cell:/Users/josepenaseco/Desktop/dev/vc/p4-vc/VC_P4_media_pipe.ipynb#W2sZmlsZQ%3D%3D?line=25'>26</a>\u001b[0m \u001b[39mfor\u001b[39;00m x \u001b[39min\u001b[39;00m detections:\n\u001b[1;32m     <a href='vscode-notebook-cell:/Users/josepenaseco/Desktop/dev/vc/p4-vc/VC_P4_media_pipe.ipynb#W2sZmlsZQ%3D%3D?line=26'>27</a>\u001b[0m     bounding_box \u001b[39m=\u001b[39m x\u001b[39m.\u001b[39mbounding_box\n",
      "\u001b[1;32m/Users/josepenaseco/Desktop/dev/vc/p4-vc/VC_P4_media_pipe.ipynb Celda 5\u001b[0m line \u001b[0;36m2\n\u001b[1;32m     <a href='vscode-notebook-cell:/Users/josepenaseco/Desktop/dev/vc/p4-vc/VC_P4_media_pipe.ipynb#W2sZmlsZQ%3D%3D?line=21'>22</a>\u001b[0m options \u001b[39m=\u001b[39m FaceDetectorOptions(\n\u001b[1;32m     <a href='vscode-notebook-cell:/Users/josepenaseco/Desktop/dev/vc/p4-vc/VC_P4_media_pipe.ipynb#W2sZmlsZQ%3D%3D?line=22'>23</a>\u001b[0m     base_options\u001b[39m=\u001b[39mBaseOptions(model_asset_path\u001b[39m=\u001b[39m\u001b[39mself\u001b[39m\u001b[39m.\u001b[39mmodel),\n\u001b[1;32m     <a href='vscode-notebook-cell:/Users/josepenaseco/Desktop/dev/vc/p4-vc/VC_P4_media_pipe.ipynb#W2sZmlsZQ%3D%3D?line=23'>24</a>\u001b[0m     running_mode\u001b[39m=\u001b[39mVisionRunningMode\u001b[39m.\u001b[39mIMAGE)\n\u001b[1;32m     <a href='vscode-notebook-cell:/Users/josepenaseco/Desktop/dev/vc/p4-vc/VC_P4_media_pipe.ipynb#W2sZmlsZQ%3D%3D?line=24'>25</a>\u001b[0m \u001b[39mwith\u001b[39;00m FaceDetector\u001b[39m.\u001b[39mcreate_from_options(options) \u001b[39mas\u001b[39;00m detector:\n\u001b[1;32m     <a href='vscode-notebook-cell:/Users/josepenaseco/Desktop/dev/vc/p4-vc/VC_P4_media_pipe.ipynb#W2sZmlsZQ%3D%3D?line=25'>26</a>\u001b[0m     \u001b[39m# Load the input image from a numpy array.\u001b[39;00m\n\u001b[0;32m---> <a href='vscode-notebook-cell:/Users/josepenaseco/Desktop/dev/vc/p4-vc/VC_P4_media_pipe.ipynb#W2sZmlsZQ%3D%3D?line=26'>27</a>\u001b[0m     mp_image \u001b[39m=\u001b[39m mp\u001b[39m.\u001b[39;49mImage(image_format\u001b[39m=\u001b[39;49mmp\u001b[39m.\u001b[39;49mImageFormat\u001b[39m.\u001b[39;49mSRGB, data\u001b[39m=\u001b[39;49mframe)\n\u001b[1;32m     <a href='vscode-notebook-cell:/Users/josepenaseco/Desktop/dev/vc/p4-vc/VC_P4_media_pipe.ipynb#W2sZmlsZQ%3D%3D?line=27'>28</a>\u001b[0m     face_detector_result \u001b[39m=\u001b[39m detector\u001b[39m.\u001b[39mdetect(mp_image)\n\u001b[1;32m     <a href='vscode-notebook-cell:/Users/josepenaseco/Desktop/dev/vc/p4-vc/VC_P4_media_pipe.ipynb#W2sZmlsZQ%3D%3D?line=28'>29</a>\u001b[0m     \u001b[39mreturn\u001b[39;00m face_detector_result\u001b[39m.\u001b[39mdetections\n",
      "\u001b[0;31mKeyboardInterrupt\u001b[0m: "
     ]
    }
   ],
   "source": [
    "\n",
    "\n",
    "def bounding_box_crop(frame, bounding_box):\n",
    "    origin_x = int(bounding_box.origin_x)\n",
    "    origin_y = int(bounding_box.origin_y)\n",
    "    final_x = int(bounding_box.width)\n",
    "    final_y = int(bounding_box.height)\n",
    "    return frame[origin_y:origin_y+final_y, origin_x:origin_x+final_x]\n",
    "\n",
    "def bounding_box_paint(frame, bounding_box):\n",
    "    origin_x = int(bounding_box.origin_x)\n",
    "    origin_y = int(bounding_box.origin_y)\n",
    "    final_x = int(bounding_box.width)\n",
    "    final_y = int(bounding_box.height)\n",
    "    cv.rectangle(frame, (origin_x, origin_y), (origin_x + final_x, origin_y + final_y), (0, 255, 0), 2)\n",
    "\n",
    "\n",
    "first_time = False\n",
    "\n",
    "def callback(frame):\n",
    "    global first_time\n",
    "    global stylized_face\n",
    "    detector = MediaPipeFaceDetector(MediaPipeModels.blaze_face_short_range)\n",
    "    stylizer = MediaPipeFaceStyler(MediaPipeModels.color_sketch)\n",
    "    #stylized = stylizer.style(frame)\n",
    "    #print(stylized)\n",
    "    detections = detector.detect(frame)\n",
    "    for x in detections:\n",
    "        bounding_box = x.bounding_box\n",
    "        keypoints = x.keypoints\n",
    "        #bounding_box_paint(frame, bounding_box)\n",
    "        cropped = bounding_box_crop(frame, bounding_box)\n",
    "        canny = cv.Canny(cropped, 50, 100)\n",
    "        #canny to rgb\n",
    "        canny = cv.cvtColor(canny, cv.COLOR_GRAY2RGB)\n",
    "        #MAKE BORDERS OVERLAP NOT REPLACE\n",
    "        frame[bounding_box.origin_y:bounding_box.origin_y+bounding_box.height, bounding_box.origin_x:bounding_box.origin_x+bounding_box.width] = canny\n",
    "\n",
    "    cv.imshow('frame', frame)\n",
    "\n",
    "VideoReader().record(callback)"
   ]
  },
  {
   "cell_type": "markdown",
   "metadata": {},
   "source": []
  },
  {
   "cell_type": "code",
   "execution_count": null,
   "metadata": {},
   "outputs": [],
   "source": []
  }
 ],
 "metadata": {
  "kernelspec": {
   "display_name": "VC_P1",
   "language": "python",
   "name": "python3"
  },
  "language_info": {
   "codemirror_mode": {
    "name": "ipython",
    "version": 3
   },
   "file_extension": ".py",
   "mimetype": "text/x-python",
   "name": "python",
   "nbconvert_exporter": "python",
   "pygments_lexer": "ipython3",
   "version": "3.11.4"
  }
 },
 "nbformat": 4,
 "nbformat_minor": 2
}
